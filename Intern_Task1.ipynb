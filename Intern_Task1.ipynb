{
 "cells": [
  {
   "cell_type": "code",
   "execution_count": 1,
   "metadata": {},
   "outputs": [],
   "source": [
    "import selenium"
   ]
  },
  {
   "cell_type": "code",
   "execution_count": 2,
   "metadata": {},
   "outputs": [],
   "source": [
    "import pandas as pd"
   ]
  },
  {
   "cell_type": "code",
   "execution_count": 3,
   "metadata": {},
   "outputs": [],
   "source": [
    "from selenium import webdriver"
   ]
  },
  {
   "cell_type": "code",
   "execution_count": 4,
   "metadata": {},
   "outputs": [],
   "source": [
    "driver=webdriver.Chrome(\"C:\\chromedriver.exe\")"
   ]
  },
  {
   "cell_type": "code",
   "execution_count": 5,
   "metadata": {},
   "outputs": [],
   "source": [
    "driver.get('https://www.naukri.com/')"
   ]
  },
  {
   "cell_type": "code",
   "execution_count": 6,
   "metadata": {},
   "outputs": [],
   "source": [
    "search_job=driver.find_element_by_id('qsb-keyword-sugg')\n",
    "search_job.send_keys(\"data analyst\")\n",
    "search_loc=driver.find_element_by_id(\"qsb-location-sugg\")\n",
    "search_loc.send_keys(\"Bangalore\")"
   ]
  },
  {
   "cell_type": "code",
   "execution_count": 7,
   "metadata": {},
   "outputs": [],
   "source": [
    "search_btn=driver.find_element_by_xpath(\"//div[@class='search-btn']/button\")\n",
    "search_btn.click()"
   ]
  },
  {
   "cell_type": "code",
   "execution_count": 8,
   "metadata": {},
   "outputs": [],
   "source": [
    "job_titles=[]\n",
    "company_names=[]\n",
    "locations_list=[]"
   ]
  },
  {
   "cell_type": "code",
   "execution_count": 18,
   "metadata": {},
   "outputs": [
    {
     "data": {
      "text/plain": [
       "[<selenium.webdriver.remote.webelement.WebElement (session=\"44c6234603d2ad5192c881ad0d7244ee\", element=\"bbbea746-fce8-44b3-a679-c951f08acbb1\")>,\n",
       " <selenium.webdriver.remote.webelement.WebElement (session=\"44c6234603d2ad5192c881ad0d7244ee\", element=\"93f8db0c-56c8-460b-a2e0-1cd0e5a308f0\")>,\n",
       " <selenium.webdriver.remote.webelement.WebElement (session=\"44c6234603d2ad5192c881ad0d7244ee\", element=\"9ed4eb52-cb61-4180-addc-11c05c8f128c\")>,\n",
       " <selenium.webdriver.remote.webelement.WebElement (session=\"44c6234603d2ad5192c881ad0d7244ee\", element=\"12fea940-f629-4ce2-a34b-6ed46b0f8596\")>,\n",
       " <selenium.webdriver.remote.webelement.WebElement (session=\"44c6234603d2ad5192c881ad0d7244ee\", element=\"272958fe-15d9-40a1-853b-9f609915c2aa\")>,\n",
       " <selenium.webdriver.remote.webelement.WebElement (session=\"44c6234603d2ad5192c881ad0d7244ee\", element=\"fc4aebd0-a2de-466c-973a-154f713e9c20\")>,\n",
       " <selenium.webdriver.remote.webelement.WebElement (session=\"44c6234603d2ad5192c881ad0d7244ee\", element=\"bc7a2d9e-31d8-41d1-b516-4a40d959642d\")>,\n",
       " <selenium.webdriver.remote.webelement.WebElement (session=\"44c6234603d2ad5192c881ad0d7244ee\", element=\"c4688c1b-6a7b-4cf1-8cf8-0f5070291d80\")>,\n",
       " <selenium.webdriver.remote.webelement.WebElement (session=\"44c6234603d2ad5192c881ad0d7244ee\", element=\"2fb2ced2-f459-40e0-b53a-c0993dbcd408\")>,\n",
       " <selenium.webdriver.remote.webelement.WebElement (session=\"44c6234603d2ad5192c881ad0d7244ee\", element=\"239a0a0e-cf96-42e3-a8e3-7f74e821b312\")>]"
      ]
     },
     "execution_count": 18,
     "metadata": {},
     "output_type": "execute_result"
    }
   ],
   "source": [
    "title_tags=driver.find_elements_by_xpath(\"//a[@class='title fw500 ellipsis']\")\n",
    "title_tags[0:10]"
   ]
  },
  {
   "cell_type": "code",
   "execution_count": 21,
   "metadata": {},
   "outputs": [
    {
     "data": {
      "text/plain": [
       "['Fresher Data Engineer / Data Scientist / Data Analyst Requirements',\n",
       " 'Immediate opening For Data Scientist/Data Analyst',\n",
       " 'Business Data Analyst',\n",
       " 'SAS AML Data Analyst / Trainee & Data Science, Python Trainee',\n",
       " 'Hiring Data Analysts',\n",
       " 'Hiring Data Analysts',\n",
       " 'Data Analyst',\n",
       " 'Study Data Analyst',\n",
       " 'Data Analyst',\n",
       " 'Business Data Analyst']"
      ]
     },
     "execution_count": 21,
     "metadata": {},
     "output_type": "execute_result"
    }
   ],
   "source": [
    "for i in title_tags:\n",
    "    \n",
    "    title=i.text\n",
    "    job_titles.append(title)\n",
    "job_titles[0:10]"
   ]
  },
  {
   "cell_type": "code",
   "execution_count": 19,
   "metadata": {},
   "outputs": [
    {
     "data": {
      "text/plain": [
       "[<selenium.webdriver.remote.webelement.WebElement (session=\"44c6234603d2ad5192c881ad0d7244ee\", element=\"fe0c3ac2-cb10-4546-afd3-b85576430a38\")>,\n",
       " <selenium.webdriver.remote.webelement.WebElement (session=\"44c6234603d2ad5192c881ad0d7244ee\", element=\"6ef39e9d-9917-4cb3-a35e-ce47a637a071\")>,\n",
       " <selenium.webdriver.remote.webelement.WebElement (session=\"44c6234603d2ad5192c881ad0d7244ee\", element=\"0f6eb2f8-ea38-4efe-9c81-f31cafeec7bb\")>,\n",
       " <selenium.webdriver.remote.webelement.WebElement (session=\"44c6234603d2ad5192c881ad0d7244ee\", element=\"8d6c88ff-d217-4d80-8748-11b7f40d1bc6\")>,\n",
       " <selenium.webdriver.remote.webelement.WebElement (session=\"44c6234603d2ad5192c881ad0d7244ee\", element=\"8404757c-ea78-4e6f-9fa3-15fcea36a786\")>,\n",
       " <selenium.webdriver.remote.webelement.WebElement (session=\"44c6234603d2ad5192c881ad0d7244ee\", element=\"a1b2b051-0025-467c-a534-d4d3276706d4\")>,\n",
       " <selenium.webdriver.remote.webelement.WebElement (session=\"44c6234603d2ad5192c881ad0d7244ee\", element=\"fc35c803-afac-44b1-bf14-5bdd4cae804b\")>,\n",
       " <selenium.webdriver.remote.webelement.WebElement (session=\"44c6234603d2ad5192c881ad0d7244ee\", element=\"901bcdfa-8e2f-4afc-b96a-a57ef66f14c1\")>,\n",
       " <selenium.webdriver.remote.webelement.WebElement (session=\"44c6234603d2ad5192c881ad0d7244ee\", element=\"9199ae24-23b2-48a0-a1eb-4c95729e5f2e\")>,\n",
       " <selenium.webdriver.remote.webelement.WebElement (session=\"44c6234603d2ad5192c881ad0d7244ee\", element=\"2bd350c0-e192-40dc-9ee0-4857d4206466\")>]"
      ]
     },
     "execution_count": 19,
     "metadata": {},
     "output_type": "execute_result"
    }
   ],
   "source": [
    "companies_tags=driver.find_elements_by_xpath(\"//a[@class='subTitle ellipsis fleft']\")\n",
    "companies_tags[0:10]"
   ]
  },
  {
   "cell_type": "code",
   "execution_count": 20,
   "metadata": {},
   "outputs": [
    {
     "data": {
      "text/plain": [
       "['ACHYUTAS SOFT PRIVATE LIMITED',\n",
       " 'CAIA-Center For Artificial Intelligence & Advanced Analytics',\n",
       " 'NetApp',\n",
       " 'MagicBase Royal BD Pvt Ltd',\n",
       " 'Flipkart Internet Private Limited',\n",
       " 'Flipkart Internet Private Limited',\n",
       " 'GlaxoSmithKline Pharmaceuticals Limited',\n",
       " 'GlaxoSmithKline Pharmaceuticals Limited',\n",
       " 'Cognizant Technology Solutions India Ltd',\n",
       " 'GENPACT India Private Limited']"
      ]
     },
     "execution_count": 20,
     "metadata": {},
     "output_type": "execute_result"
    }
   ],
   "source": [
    "for i in companies_tags:\n",
    "    \n",
    "    company_name=i.text\n",
    "    company_names.append(company_name)\n",
    "company_names[0:10]"
   ]
  },
  {
   "cell_type": "code",
   "execution_count": 13,
   "metadata": {},
   "outputs": [
    {
     "data": {
      "text/plain": [
       "[<selenium.webdriver.remote.webelement.WebElement (session=\"44c6234603d2ad5192c881ad0d7244ee\", element=\"21317f9b-dcf4-4787-b816-906bbe1190e2\")>,\n",
       " <selenium.webdriver.remote.webelement.WebElement (session=\"44c6234603d2ad5192c881ad0d7244ee\", element=\"8b676b60-ea3c-4e40-ab25-798592beb565\")>,\n",
       " <selenium.webdriver.remote.webelement.WebElement (session=\"44c6234603d2ad5192c881ad0d7244ee\", element=\"18b78ff4-c14b-4640-95bf-3837a85f2ba5\")>,\n",
       " <selenium.webdriver.remote.webelement.WebElement (session=\"44c6234603d2ad5192c881ad0d7244ee\", element=\"58cd2183-99fe-4faa-834b-9afcf3d108ec\")>,\n",
       " <selenium.webdriver.remote.webelement.WebElement (session=\"44c6234603d2ad5192c881ad0d7244ee\", element=\"3574e889-01b5-4745-8781-7865c29cd428\")>,\n",
       " <selenium.webdriver.remote.webelement.WebElement (session=\"44c6234603d2ad5192c881ad0d7244ee\", element=\"fa2b9ba7-87f9-4cee-b970-873177f5d1ae\")>,\n",
       " <selenium.webdriver.remote.webelement.WebElement (session=\"44c6234603d2ad5192c881ad0d7244ee\", element=\"81580224-df87-4f05-89c4-2e0a39692b1c\")>,\n",
       " <selenium.webdriver.remote.webelement.WebElement (session=\"44c6234603d2ad5192c881ad0d7244ee\", element=\"ba3928d5-09c9-417b-a478-0ea1400201a6\")>,\n",
       " <selenium.webdriver.remote.webelement.WebElement (session=\"44c6234603d2ad5192c881ad0d7244ee\", element=\"7d5707ae-e44b-482a-a24c-517dbcd5e548\")>,\n",
       " <selenium.webdriver.remote.webelement.WebElement (session=\"44c6234603d2ad5192c881ad0d7244ee\", element=\"c3ee7958-d055-40b6-a44e-b30c0b2fee34\")>]"
      ]
     },
     "execution_count": 13,
     "metadata": {},
     "output_type": "execute_result"
    }
   ],
   "source": [
    "locations_tags=driver.find_elements_by_xpath(\"//li[@class='fleft grey-text br2 placeHolderLi location']/span[1]\")\n",
    "locations_tags[0:10]"
   ]
  },
  {
   "cell_type": "code",
   "execution_count": 22,
   "metadata": {},
   "outputs": [
    {
     "data": {
      "text/plain": [
       "['Delhi NCR, Bengaluru, Hyderabad',\n",
       " 'Chennai, Pune, Bengaluru, Hyderabad',\n",
       " 'Bengaluru',\n",
       " 'Bengaluru(Whitefield)',\n",
       " 'Bengaluru',\n",
       " 'Bengaluru',\n",
       " 'Bengaluru, India',\n",
       " 'Bengaluru',\n",
       " 'Bengaluru',\n",
       " 'Bengaluru']"
      ]
     },
     "execution_count": 22,
     "metadata": {},
     "output_type": "execute_result"
    }
   ],
   "source": [
    "for i in locations_tags:\n",
    "    location=i.text\n",
    "    locations_list.append(location)\n",
    "    \n",
    "    \n",
    "locations_list[0:10]\n",
    "    "
   ]
  },
  {
   "cell_type": "code",
   "execution_count": 23,
   "metadata": {},
   "outputs": [
    {
     "name": "stdout",
     "output_type": "stream",
     "text": [
      "20 20 40\n"
     ]
    }
   ],
   "source": [
    "print(len(job_titles),len(company_names),len(locations_list))"
   ]
  },
  {
   "cell_type": "code",
   "execution_count": 24,
   "metadata": {},
   "outputs": [],
   "source": [
    "import pandas as pd\n",
    "jobs=pd.DataFrame({})\n",
    "jobs['title']=job_titles[0:10]\n",
    "jobs['company']=company_names[0:10]\n",
    "jobs['locations']=locations_list[0:10]"
   ]
  },
  {
   "cell_type": "code",
   "execution_count": 25,
   "metadata": {},
   "outputs": [
    {
     "data": {
      "text/html": [
       "<div>\n",
       "<style scoped>\n",
       "    .dataframe tbody tr th:only-of-type {\n",
       "        vertical-align: middle;\n",
       "    }\n",
       "\n",
       "    .dataframe tbody tr th {\n",
       "        vertical-align: top;\n",
       "    }\n",
       "\n",
       "    .dataframe thead th {\n",
       "        text-align: right;\n",
       "    }\n",
       "</style>\n",
       "<table border=\"1\" class=\"dataframe\">\n",
       "  <thead>\n",
       "    <tr style=\"text-align: right;\">\n",
       "      <th></th>\n",
       "      <th>title</th>\n",
       "      <th>company</th>\n",
       "      <th>locations</th>\n",
       "    </tr>\n",
       "  </thead>\n",
       "  <tbody>\n",
       "    <tr>\n",
       "      <th>0</th>\n",
       "      <td>Fresher Data Engineer / Data Scientist / Data ...</td>\n",
       "      <td>ACHYUTAS SOFT PRIVATE LIMITED</td>\n",
       "      <td>Delhi NCR, Bengaluru, Hyderabad</td>\n",
       "    </tr>\n",
       "    <tr>\n",
       "      <th>1</th>\n",
       "      <td>Immediate opening For Data Scientist/Data Analyst</td>\n",
       "      <td>CAIA-Center For Artificial Intelligence &amp; Adva...</td>\n",
       "      <td>Chennai, Pune, Bengaluru, Hyderabad</td>\n",
       "    </tr>\n",
       "    <tr>\n",
       "      <th>2</th>\n",
       "      <td>Business Data Analyst</td>\n",
       "      <td>NetApp</td>\n",
       "      <td>Bengaluru</td>\n",
       "    </tr>\n",
       "    <tr>\n",
       "      <th>3</th>\n",
       "      <td>SAS AML Data Analyst / Trainee &amp; Data Science,...</td>\n",
       "      <td>MagicBase Royal BD Pvt Ltd</td>\n",
       "      <td>Bengaluru(Whitefield)</td>\n",
       "    </tr>\n",
       "    <tr>\n",
       "      <th>4</th>\n",
       "      <td>Hiring Data Analysts</td>\n",
       "      <td>Flipkart Internet Private Limited</td>\n",
       "      <td>Bengaluru</td>\n",
       "    </tr>\n",
       "    <tr>\n",
       "      <th>5</th>\n",
       "      <td>Hiring Data Analysts</td>\n",
       "      <td>Flipkart Internet Private Limited</td>\n",
       "      <td>Bengaluru</td>\n",
       "    </tr>\n",
       "    <tr>\n",
       "      <th>6</th>\n",
       "      <td>Data Analyst</td>\n",
       "      <td>GlaxoSmithKline Pharmaceuticals Limited</td>\n",
       "      <td>Bengaluru, India</td>\n",
       "    </tr>\n",
       "    <tr>\n",
       "      <th>7</th>\n",
       "      <td>Study Data Analyst</td>\n",
       "      <td>GlaxoSmithKline Pharmaceuticals Limited</td>\n",
       "      <td>Bengaluru</td>\n",
       "    </tr>\n",
       "    <tr>\n",
       "      <th>8</th>\n",
       "      <td>Data Analyst</td>\n",
       "      <td>Cognizant Technology Solutions India Ltd</td>\n",
       "      <td>Bengaluru</td>\n",
       "    </tr>\n",
       "    <tr>\n",
       "      <th>9</th>\n",
       "      <td>Business Data Analyst</td>\n",
       "      <td>GENPACT India Private Limited</td>\n",
       "      <td>Bengaluru</td>\n",
       "    </tr>\n",
       "  </tbody>\n",
       "</table>\n",
       "</div>"
      ],
      "text/plain": [
       "                                               title  \\\n",
       "0  Fresher Data Engineer / Data Scientist / Data ...   \n",
       "1  Immediate opening For Data Scientist/Data Analyst   \n",
       "2                              Business Data Analyst   \n",
       "3  SAS AML Data Analyst / Trainee & Data Science,...   \n",
       "4                               Hiring Data Analysts   \n",
       "5                               Hiring Data Analysts   \n",
       "6                                       Data Analyst   \n",
       "7                                 Study Data Analyst   \n",
       "8                                       Data Analyst   \n",
       "9                              Business Data Analyst   \n",
       "\n",
       "                                             company  \\\n",
       "0                      ACHYUTAS SOFT PRIVATE LIMITED   \n",
       "1  CAIA-Center For Artificial Intelligence & Adva...   \n",
       "2                                             NetApp   \n",
       "3                         MagicBase Royal BD Pvt Ltd   \n",
       "4                  Flipkart Internet Private Limited   \n",
       "5                  Flipkart Internet Private Limited   \n",
       "6            GlaxoSmithKline Pharmaceuticals Limited   \n",
       "7            GlaxoSmithKline Pharmaceuticals Limited   \n",
       "8           Cognizant Technology Solutions India Ltd   \n",
       "9                      GENPACT India Private Limited   \n",
       "\n",
       "                             locations  \n",
       "0      Delhi NCR, Bengaluru, Hyderabad  \n",
       "1  Chennai, Pune, Bengaluru, Hyderabad  \n",
       "2                            Bengaluru  \n",
       "3                Bengaluru(Whitefield)  \n",
       "4                            Bengaluru  \n",
       "5                            Bengaluru  \n",
       "6                     Bengaluru, India  \n",
       "7                            Bengaluru  \n",
       "8                            Bengaluru  \n",
       "9                            Bengaluru  "
      ]
     },
     "execution_count": 25,
     "metadata": {},
     "output_type": "execute_result"
    }
   ],
   "source": [
    "jobs"
   ]
  },
  {
   "cell_type": "code",
   "execution_count": null,
   "metadata": {},
   "outputs": [],
   "source": []
  }
 ],
 "metadata": {
  "kernelspec": {
   "display_name": "Python 3",
   "language": "python",
   "name": "python3"
  },
  "language_info": {
   "codemirror_mode": {
    "name": "ipython",
    "version": 3
   },
   "file_extension": ".py",
   "mimetype": "text/x-python",
   "name": "python",
   "nbconvert_exporter": "python",
   "pygments_lexer": "ipython3",
   "version": "3.7.6"
  }
 },
 "nbformat": 4,
 "nbformat_minor": 4
}
