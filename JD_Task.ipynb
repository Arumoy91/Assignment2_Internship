{
 "cells": [
  {
   "cell_type": "code",
   "execution_count": 1,
   "metadata": {},
   "outputs": [],
   "source": [
    "import selenium\n",
    "import pandas as pd\n",
    "from selenium import webdriver"
   ]
  },
  {
   "cell_type": "code",
   "execution_count": 2,
   "metadata": {},
   "outputs": [],
   "source": [
    "driver=webdriver.Chrome(\"C:\\chromedriver.exe\")\n"
   ]
  },
  {
   "cell_type": "code",
   "execution_count": 3,
   "metadata": {},
   "outputs": [],
   "source": [
    "driver.get('https://www.naukri.com/')"
   ]
  },
  {
   "cell_type": "code",
   "execution_count": 4,
   "metadata": {},
   "outputs": [],
   "source": [
    "search_job=driver.find_element_by_id('qsb-keyword-sugg')\n",
    "search_job.send_keys(\"Data Scientist\")\n",
    "search_loc=driver.find_element_by_id(\"qsb-location-sugg\")\n",
    "search_loc.send_keys(\"Bangalore\")"
   ]
  },
  {
   "cell_type": "code",
   "execution_count": 5,
   "metadata": {},
   "outputs": [],
   "source": [
    "search_btn=driver.find_element_by_xpath(\"//div[@class='search-btn']/button\")\n",
    "search_btn.click()"
   ]
  },
  {
   "cell_type": "code",
   "execution_count": 6,
   "metadata": {},
   "outputs": [],
   "source": [
    "job_titles=[]\n",
    "company_names=[]\n",
    "urls=[]"
   ]
  },
  {
   "cell_type": "code",
   "execution_count": 17,
   "metadata": {},
   "outputs": [
    {
     "data": {
      "text/plain": [
       "[<selenium.webdriver.remote.webelement.WebElement (session=\"1150a1dbb1f18da705e5f16ebe6073c7\", element=\"e3d4c8b4-eec6-4683-85e0-ec08120341cf\")>,\n",
       " <selenium.webdriver.remote.webelement.WebElement (session=\"1150a1dbb1f18da705e5f16ebe6073c7\", element=\"a3249baf-0ec0-4a67-a70d-cb7fa4da5bad\")>,\n",
       " <selenium.webdriver.remote.webelement.WebElement (session=\"1150a1dbb1f18da705e5f16ebe6073c7\", element=\"21368f1e-f799-4411-993b-d182f7e7f16d\")>,\n",
       " <selenium.webdriver.remote.webelement.WebElement (session=\"1150a1dbb1f18da705e5f16ebe6073c7\", element=\"76395fd4-fbf6-4100-85a8-b291cb5da878\")>,\n",
       " <selenium.webdriver.remote.webelement.WebElement (session=\"1150a1dbb1f18da705e5f16ebe6073c7\", element=\"ed090ab5-2628-4d3f-93a2-f6350f2942ad\")>,\n",
       " <selenium.webdriver.remote.webelement.WebElement (session=\"1150a1dbb1f18da705e5f16ebe6073c7\", element=\"6131d5a2-ba26-4158-8ea3-0c6f7d725734\")>,\n",
       " <selenium.webdriver.remote.webelement.WebElement (session=\"1150a1dbb1f18da705e5f16ebe6073c7\", element=\"8c5c4712-998c-4e24-9a4f-04e3f927c396\")>,\n",
       " <selenium.webdriver.remote.webelement.WebElement (session=\"1150a1dbb1f18da705e5f16ebe6073c7\", element=\"4d859e2f-5270-4177-95b5-a79f35ff067e\")>,\n",
       " <selenium.webdriver.remote.webelement.WebElement (session=\"1150a1dbb1f18da705e5f16ebe6073c7\", element=\"8a201f01-d680-4c35-ab29-a542a86e3b4e\")>,\n",
       " <selenium.webdriver.remote.webelement.WebElement (session=\"1150a1dbb1f18da705e5f16ebe6073c7\", element=\"c912b1c4-2497-458b-8515-bdcc12bbbd63\")>]"
      ]
     },
     "execution_count": 17,
     "metadata": {},
     "output_type": "execute_result"
    }
   ],
   "source": [
    "title_tags=driver.find_elements_by_xpath(\"//a[@class='title fw500 ellipsis']\")\n",
    "title_tags[0:10]"
   ]
  },
  {
   "cell_type": "code",
   "execution_count": 18,
   "metadata": {},
   "outputs": [
    {
     "data": {
      "text/plain": [
       "['Fresher Data Engineer / Data Scientist / Data Analyst Requirements',\n",
       " 'Immediate opening For Data Scientist/Data Analyst',\n",
       " 'Data Scientist - Machine Learning',\n",
       " 'Senior Data Scientist - NLP/ Python/ R',\n",
       " 'Senior Data Scientist | CES IT LTD | CMMI Level 5',\n",
       " 'Senior Data Scientist | CES IT LTD | CMMI Level 5',\n",
       " 'Artificial Intelligence Analyst/Data Scientist',\n",
       " 'Data Scientist',\n",
       " 'Global Medical Data Scientist',\n",
       " 'Advanced Architect - Data Scientist']"
      ]
     },
     "execution_count": 18,
     "metadata": {},
     "output_type": "execute_result"
    }
   ],
   "source": [
    "for i in title_tags:\n",
    "    \n",
    "    title=i.text\n",
    "    job_titles.append(title)\n",
    "job_titles[0:10]"
   ]
  },
  {
   "cell_type": "code",
   "execution_count": 19,
   "metadata": {},
   "outputs": [
    {
     "data": {
      "text/plain": [
       "[<selenium.webdriver.remote.webelement.WebElement (session=\"1150a1dbb1f18da705e5f16ebe6073c7\", element=\"a2740e70-1b13-4052-9eba-86f15a9758a3\")>,\n",
       " <selenium.webdriver.remote.webelement.WebElement (session=\"1150a1dbb1f18da705e5f16ebe6073c7\", element=\"504846c9-3cca-4242-8790-2b513a7abdac\")>,\n",
       " <selenium.webdriver.remote.webelement.WebElement (session=\"1150a1dbb1f18da705e5f16ebe6073c7\", element=\"8bdcefd3-6540-4339-a8e5-e543ad09f5de\")>,\n",
       " <selenium.webdriver.remote.webelement.WebElement (session=\"1150a1dbb1f18da705e5f16ebe6073c7\", element=\"2ce0b77c-76c1-4fa0-9295-59e1694dccd8\")>,\n",
       " <selenium.webdriver.remote.webelement.WebElement (session=\"1150a1dbb1f18da705e5f16ebe6073c7\", element=\"249acfc8-7ea1-4267-afce-24d13832806c\")>,\n",
       " <selenium.webdriver.remote.webelement.WebElement (session=\"1150a1dbb1f18da705e5f16ebe6073c7\", element=\"412f8543-e26c-48d4-acd3-033deb995116\")>,\n",
       " <selenium.webdriver.remote.webelement.WebElement (session=\"1150a1dbb1f18da705e5f16ebe6073c7\", element=\"7dc700ac-fde3-4ca1-9b7f-c5891999f93c\")>,\n",
       " <selenium.webdriver.remote.webelement.WebElement (session=\"1150a1dbb1f18da705e5f16ebe6073c7\", element=\"65ea5dda-65dc-4213-bf1d-6389f91afb51\")>,\n",
       " <selenium.webdriver.remote.webelement.WebElement (session=\"1150a1dbb1f18da705e5f16ebe6073c7\", element=\"c9de443f-3fd8-432a-a39c-025fead459cf\")>,\n",
       " <selenium.webdriver.remote.webelement.WebElement (session=\"1150a1dbb1f18da705e5f16ebe6073c7\", element=\"e87e09ac-5629-4b5f-a8bd-c4c074629c03\")>]"
      ]
     },
     "execution_count": 19,
     "metadata": {},
     "output_type": "execute_result"
    }
   ],
   "source": [
    "companies_tags=driver.find_elements_by_xpath(\"//a[@class='subTitle ellipsis fleft']\")\n",
    "companies_tags[0:10]"
   ]
  },
  {
   "cell_type": "code",
   "execution_count": 20,
   "metadata": {},
   "outputs": [
    {
     "data": {
      "text/plain": [
       "['ACHYUTAS SOFT PRIVATE LIMITED',\n",
       " 'CAIA-Center For Artificial Intelligence & Advanced Analytics',\n",
       " 'BLUE YONDER INDIA PRIVATE LIMITED',\n",
       " 'AVI Consulting LLP',\n",
       " 'CES Ltd.',\n",
       " 'CES Ltd.',\n",
       " 'TalentCo Search Pvt Ltd',\n",
       " 'Mailkit Private Limited',\n",
       " 'GlaxoSmithKline Pharmaceuticals Limited']"
      ]
     },
     "execution_count": 20,
     "metadata": {},
     "output_type": "execute_result"
    }
   ],
   "source": [
    "for i in companies_tags:\n",
    "    \n",
    "    company_name=i.text\n",
    "    company_names.append(company_name)\n",
    "company_names[0:9]"
   ]
  },
  {
   "cell_type": "code",
   "execution_count": 21,
   "metadata": {},
   "outputs": [
    {
     "data": {
      "text/plain": [
       "[<selenium.webdriver.remote.webelement.WebElement (session=\"1150a1dbb1f18da705e5f16ebe6073c7\", element=\"62fdbd9c-2c25-4e06-8df7-a8fe02542fce\")>,\n",
       " <selenium.webdriver.remote.webelement.WebElement (session=\"1150a1dbb1f18da705e5f16ebe6073c7\", element=\"0a8559eb-b9ec-4a47-bae3-836bd975ed48\")>,\n",
       " <selenium.webdriver.remote.webelement.WebElement (session=\"1150a1dbb1f18da705e5f16ebe6073c7\", element=\"0e17dfe9-f739-4e01-a20d-791888a78935\")>,\n",
       " <selenium.webdriver.remote.webelement.WebElement (session=\"1150a1dbb1f18da705e5f16ebe6073c7\", element=\"a566d812-4745-4abc-8aff-8036c447fef7\")>,\n",
       " <selenium.webdriver.remote.webelement.WebElement (session=\"1150a1dbb1f18da705e5f16ebe6073c7\", element=\"d9dd43fc-7385-4d4e-a42b-aee5191efa89\")>,\n",
       " <selenium.webdriver.remote.webelement.WebElement (session=\"1150a1dbb1f18da705e5f16ebe6073c7\", element=\"2f8798f6-df3b-42e6-86d0-b36a9a5bfe97\")>,\n",
       " <selenium.webdriver.remote.webelement.WebElement (session=\"1150a1dbb1f18da705e5f16ebe6073c7\", element=\"4cf8c84e-bd72-4218-9538-ee8c13b744e6\")>,\n",
       " <selenium.webdriver.remote.webelement.WebElement (session=\"1150a1dbb1f18da705e5f16ebe6073c7\", element=\"ab8e3512-8493-4822-9d9a-716bc742790c\")>,\n",
       " <selenium.webdriver.remote.webelement.WebElement (session=\"1150a1dbb1f18da705e5f16ebe6073c7\", element=\"277084c9-141f-410b-86bf-468ed1f9e0be\")>]"
      ]
     },
     "execution_count": 21,
     "metadata": {},
     "output_type": "execute_result"
    }
   ],
   "source": [
    "url_tags=driver.find_elements_by_xpath(\"//div[@class='job-description fs12 grey-text']\")\n",
    "url_tags[0:9]"
   ]
  },
  {
   "cell_type": "code",
   "execution_count": 22,
   "metadata": {},
   "outputs": [],
   "source": [
    "for i in urls[0:9]:\n",
    "    print(i.get_attribute('href'))\n",
    "    driver.get(i.get_attribute('href'))\n",
    "    "
   ]
  },
  {
   "cell_type": "code",
   "execution_count": 36,
   "metadata": {},
   "outputs": [
    {
     "name": "stdout",
     "output_type": "stream",
     "text": [
      "20 20\n"
     ]
    }
   ],
   "source": [
    "print(len(job_titles),len(company_names))"
   ]
  },
  {
   "cell_type": "code",
   "execution_count": 37,
   "metadata": {},
   "outputs": [],
   "source": [
    "import pandas as pd\n",
    "jobs=pd.DataFrame({})\n",
    "jobs['title']=job_titles[0:9]\n",
    "jobs['company']=company_names[0:9]\n"
   ]
  },
  {
   "cell_type": "code",
   "execution_count": 38,
   "metadata": {},
   "outputs": [
    {
     "data": {
      "text/html": [
       "<div>\n",
       "<style scoped>\n",
       "    .dataframe tbody tr th:only-of-type {\n",
       "        vertical-align: middle;\n",
       "    }\n",
       "\n",
       "    .dataframe tbody tr th {\n",
       "        vertical-align: top;\n",
       "    }\n",
       "\n",
       "    .dataframe thead th {\n",
       "        text-align: right;\n",
       "    }\n",
       "</style>\n",
       "<table border=\"1\" class=\"dataframe\">\n",
       "  <thead>\n",
       "    <tr style=\"text-align: right;\">\n",
       "      <th></th>\n",
       "      <th>title</th>\n",
       "      <th>company</th>\n",
       "    </tr>\n",
       "  </thead>\n",
       "  <tbody>\n",
       "    <tr>\n",
       "      <th>0</th>\n",
       "      <td>Fresher Data Engineer / Data Scientist / Data ...</td>\n",
       "      <td>ACHYUTAS SOFT PRIVATE LIMITED</td>\n",
       "    </tr>\n",
       "    <tr>\n",
       "      <th>1</th>\n",
       "      <td>Immediate opening For Data Scientist/Data Analyst</td>\n",
       "      <td>CAIA-Center For Artificial Intelligence &amp; Adva...</td>\n",
       "    </tr>\n",
       "    <tr>\n",
       "      <th>2</th>\n",
       "      <td>Data Scientist - Machine Learning</td>\n",
       "      <td>BLUE YONDER INDIA PRIVATE LIMITED</td>\n",
       "    </tr>\n",
       "    <tr>\n",
       "      <th>3</th>\n",
       "      <td>Senior Data Scientist - NLP/ Python/ R</td>\n",
       "      <td>AVI Consulting LLP</td>\n",
       "    </tr>\n",
       "    <tr>\n",
       "      <th>4</th>\n",
       "      <td>Senior Data Scientist | CES IT LTD | CMMI Level 5</td>\n",
       "      <td>CES Ltd.</td>\n",
       "    </tr>\n",
       "    <tr>\n",
       "      <th>5</th>\n",
       "      <td>Senior Data Scientist | CES IT LTD | CMMI Level 5</td>\n",
       "      <td>CES Ltd.</td>\n",
       "    </tr>\n",
       "    <tr>\n",
       "      <th>6</th>\n",
       "      <td>Artificial Intelligence Analyst/Data Scientist</td>\n",
       "      <td>TalentCo Search Pvt Ltd</td>\n",
       "    </tr>\n",
       "    <tr>\n",
       "      <th>7</th>\n",
       "      <td>Data Scientist</td>\n",
       "      <td>Mailkit Private Limited</td>\n",
       "    </tr>\n",
       "    <tr>\n",
       "      <th>8</th>\n",
       "      <td>Global Medical Data Scientist</td>\n",
       "      <td>GlaxoSmithKline Pharmaceuticals Limited</td>\n",
       "    </tr>\n",
       "  </tbody>\n",
       "</table>\n",
       "</div>"
      ],
      "text/plain": [
       "                                               title  \\\n",
       "0  Fresher Data Engineer / Data Scientist / Data ...   \n",
       "1  Immediate opening For Data Scientist/Data Analyst   \n",
       "2                  Data Scientist - Machine Learning   \n",
       "3             Senior Data Scientist - NLP/ Python/ R   \n",
       "4  Senior Data Scientist | CES IT LTD | CMMI Level 5   \n",
       "5  Senior Data Scientist | CES IT LTD | CMMI Level 5   \n",
       "6     Artificial Intelligence Analyst/Data Scientist   \n",
       "7                                     Data Scientist   \n",
       "8                      Global Medical Data Scientist   \n",
       "\n",
       "                                             company  \n",
       "0                      ACHYUTAS SOFT PRIVATE LIMITED  \n",
       "1  CAIA-Center For Artificial Intelligence & Adva...  \n",
       "2                  BLUE YONDER INDIA PRIVATE LIMITED  \n",
       "3                                 AVI Consulting LLP  \n",
       "4                                           CES Ltd.  \n",
       "5                                           CES Ltd.  \n",
       "6                            TalentCo Search Pvt Ltd  \n",
       "7                            Mailkit Private Limited  \n",
       "8            GlaxoSmithKline Pharmaceuticals Limited  "
      ]
     },
     "execution_count": 38,
     "metadata": {},
     "output_type": "execute_result"
    }
   ],
   "source": [
    "jobs"
   ]
  },
  {
   "cell_type": "code",
   "execution_count": null,
   "metadata": {},
   "outputs": [],
   "source": []
  }
 ],
 "metadata": {
  "kernelspec": {
   "display_name": "Python 3",
   "language": "python",
   "name": "python3"
  },
  "language_info": {
   "codemirror_mode": {
    "name": "ipython",
    "version": 3
   },
   "file_extension": ".py",
   "mimetype": "text/x-python",
   "name": "python",
   "nbconvert_exporter": "python",
   "pygments_lexer": "ipython3",
   "version": "3.7.6"
  }
 },
 "nbformat": 4,
 "nbformat_minor": 4
}
