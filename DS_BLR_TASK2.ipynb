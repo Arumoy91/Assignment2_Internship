{
 "cells": [
  {
   "cell_type": "code",
   "execution_count": 1,
   "metadata": {},
   "outputs": [],
   "source": [
    "import selenium"
   ]
  },
  {
   "cell_type": "code",
   "execution_count": 2,
   "metadata": {},
   "outputs": [],
   "source": [
    "import pandas as pd\n",
    "from selenium import webdriver"
   ]
  },
  {
   "cell_type": "code",
   "execution_count": 3,
   "metadata": {},
   "outputs": [],
   "source": [
    "driver=webdriver.Chrome(\"C:\\chromedriver.exe\")"
   ]
  },
  {
   "cell_type": "code",
   "execution_count": 4,
   "metadata": {},
   "outputs": [],
   "source": [
    "driver.get('https://www.naukri.com/')"
   ]
  },
  {
   "cell_type": "code",
   "execution_count": 5,
   "metadata": {},
   "outputs": [],
   "source": [
    "search_job=driver.find_element_by_id('qsb-keyword-sugg')\n",
    "search_job.send_keys(\"Data Scientist\")\n",
    "search_loc=driver.find_element_by_id(\"qsb-location-sugg\")\n",
    "search_loc.send_keys(\"Bangalore\")search_btn=driver.find_element_by_xpath(\"//div[@class='search-btn']/button\")\n",
    "search_btn.click()"
   ]
  },
  {
   "cell_type": "code",
   "execution_count": 6,
   "metadata": {},
   "outputs": [],
   "source": [
    "search_btn=driver.find_element_by_xpath(\"//div[@class='search-btn']/button\")\n",
    "search_btn.click()"
   ]
  },
  {
   "cell_type": "code",
   "execution_count": 7,
   "metadata": {},
   "outputs": [],
   "source": [
    "job_titles=[]\n",
    "company_names=[]\n",
    "locations_list=[]"
   ]
  },
  {
   "cell_type": "code",
   "execution_count": 8,
   "metadata": {},
   "outputs": [
    {
     "data": {
      "text/plain": [
       "[<selenium.webdriver.remote.webelement.WebElement (session=\"be8319d57f584f5c7e5edda28412db11\", element=\"8e0ac82e-dbd0-4681-af1a-c82da8d2d931\")>,\n",
       " <selenium.webdriver.remote.webelement.WebElement (session=\"be8319d57f584f5c7e5edda28412db11\", element=\"937a29ed-106b-460c-b48e-4fc7a0c039df\")>,\n",
       " <selenium.webdriver.remote.webelement.WebElement (session=\"be8319d57f584f5c7e5edda28412db11\", element=\"fc6e9a56-8463-4745-83ff-31b9097e28c9\")>,\n",
       " <selenium.webdriver.remote.webelement.WebElement (session=\"be8319d57f584f5c7e5edda28412db11\", element=\"a19944a8-34b9-4c1e-9a9f-502df1e7b697\")>,\n",
       " <selenium.webdriver.remote.webelement.WebElement (session=\"be8319d57f584f5c7e5edda28412db11\", element=\"eae028be-d711-4b6a-9990-2efa8172041e\")>,\n",
       " <selenium.webdriver.remote.webelement.WebElement (session=\"be8319d57f584f5c7e5edda28412db11\", element=\"b7546fb6-0cda-48ee-a608-9770a65041bc\")>,\n",
       " <selenium.webdriver.remote.webelement.WebElement (session=\"be8319d57f584f5c7e5edda28412db11\", element=\"a40ebfea-fb98-40e7-8f7d-8fc5fa0ce3fb\")>,\n",
       " <selenium.webdriver.remote.webelement.WebElement (session=\"be8319d57f584f5c7e5edda28412db11\", element=\"26f8af04-b4c6-4f74-b903-56cf805d9ff7\")>,\n",
       " <selenium.webdriver.remote.webelement.WebElement (session=\"be8319d57f584f5c7e5edda28412db11\", element=\"60edcf5a-4040-4fbf-b312-72869718c3ee\")>,\n",
       " <selenium.webdriver.remote.webelement.WebElement (session=\"be8319d57f584f5c7e5edda28412db11\", element=\"ba1d0b85-7c1e-4705-8ae7-2a5092eea9ea\")>]"
      ]
     },
     "execution_count": 8,
     "metadata": {},
     "output_type": "execute_result"
    }
   ],
   "source": [
    "title_tags=driver.find_elements_by_xpath(\"//a[@class='title fw500 ellipsis']\")\n",
    "title_tags[0:10]"
   ]
  },
  {
   "cell_type": "code",
   "execution_count": 9,
   "metadata": {},
   "outputs": [
    {
     "data": {
      "text/plain": [
       "['Fresher Data Engineer / Data Scientist / Data Analyst Requirements',\n",
       " 'Immediate opening For Data Scientist/Data Analyst',\n",
       " 'Data Scientist - Machine Learning',\n",
       " 'Senior Data Scientist - NLP/ Python/ R',\n",
       " 'Artificial Intelligence Analyst/Data Scientist',\n",
       " 'Data Scientist',\n",
       " 'Global Medical Data Scientist',\n",
       " 'Advanced Architect - Data Scientist',\n",
       " 'AI Resident Data Scientist Stats. Consl.',\n",
       " 'AI Resident - Data Scientist']"
      ]
     },
     "execution_count": 9,
     "metadata": {},
     "output_type": "execute_result"
    }
   ],
   "source": [
    "for i in title_tags:\n",
    "    \n",
    "    title=i.text\n",
    "    job_titles.append(title)\n",
    "job_titles[0:10]"
   ]
  },
  {
   "cell_type": "code",
   "execution_count": 10,
   "metadata": {},
   "outputs": [
    {
     "data": {
      "text/plain": [
       "[<selenium.webdriver.remote.webelement.WebElement (session=\"be8319d57f584f5c7e5edda28412db11\", element=\"57cf0256-2b2a-433b-90ff-95f655441736\")>,\n",
       " <selenium.webdriver.remote.webelement.WebElement (session=\"be8319d57f584f5c7e5edda28412db11\", element=\"3049b937-6c0e-40ce-9e05-9f679ef16ed0\")>,\n",
       " <selenium.webdriver.remote.webelement.WebElement (session=\"be8319d57f584f5c7e5edda28412db11\", element=\"08127dd1-950f-4b26-80b7-e42448aabb03\")>,\n",
       " <selenium.webdriver.remote.webelement.WebElement (session=\"be8319d57f584f5c7e5edda28412db11\", element=\"ed9c2fc1-d1fb-4e14-ab1e-8d20c87b1d72\")>,\n",
       " <selenium.webdriver.remote.webelement.WebElement (session=\"be8319d57f584f5c7e5edda28412db11\", element=\"a1604eea-969d-4bc0-9295-eb69ae04fba2\")>,\n",
       " <selenium.webdriver.remote.webelement.WebElement (session=\"be8319d57f584f5c7e5edda28412db11\", element=\"caeb758a-32ac-4eda-871f-17382a5c1e2b\")>,\n",
       " <selenium.webdriver.remote.webelement.WebElement (session=\"be8319d57f584f5c7e5edda28412db11\", element=\"3fc54d3a-0eb1-4ec9-bd21-3512c6cc6952\")>,\n",
       " <selenium.webdriver.remote.webelement.WebElement (session=\"be8319d57f584f5c7e5edda28412db11\", element=\"a318ea51-2171-4257-ba50-f8f9fa7de33b\")>,\n",
       " <selenium.webdriver.remote.webelement.WebElement (session=\"be8319d57f584f5c7e5edda28412db11\", element=\"0b633121-2001-49e7-9e19-0fa35f05adf4\")>,\n",
       " <selenium.webdriver.remote.webelement.WebElement (session=\"be8319d57f584f5c7e5edda28412db11\", element=\"33b244f3-9258-4ce3-81cd-bb9582eaa66f\")>]"
      ]
     },
     "execution_count": 10,
     "metadata": {},
     "output_type": "execute_result"
    }
   ],
   "source": [
    "companies_tags=driver.find_elements_by_xpath(\"//a[@class='subTitle ellipsis fleft']\")\n",
    "companies_tags[0:10]"
   ]
  },
  {
   "cell_type": "code",
   "execution_count": 11,
   "metadata": {},
   "outputs": [
    {
     "data": {
      "text/plain": [
       "['ACHYUTAS SOFT PRIVATE LIMITED',\n",
       " 'CAIA-Center For Artificial Intelligence & Advanced Analytics',\n",
       " 'BLUE YONDER INDIA PRIVATE LIMITED',\n",
       " 'AVI Consulting LLP',\n",
       " 'TalentCo Search Pvt Ltd',\n",
       " 'Mailkit Private Limited',\n",
       " 'GlaxoSmithKline Pharmaceuticals Limited',\n",
       " 'Mphasis Limited',\n",
       " 'Shell India Markets Private Limited',\n",
       " 'Shell India Markets Private Limited']"
      ]
     },
     "execution_count": 11,
     "metadata": {},
     "output_type": "execute_result"
    }
   ],
   "source": [
    "for i in companies_tags:\n",
    "    \n",
    "    company_name=i.text\n",
    "    company_names.append(company_name)\n",
    "company_names[0:10]"
   ]
  },
  {
   "cell_type": "code",
   "execution_count": 12,
   "metadata": {},
   "outputs": [
    {
     "data": {
      "text/plain": [
       "[<selenium.webdriver.remote.webelement.WebElement (session=\"be8319d57f584f5c7e5edda28412db11\", element=\"58d5d6fd-d7ea-4056-bc72-f5dc71384dd6\")>,\n",
       " <selenium.webdriver.remote.webelement.WebElement (session=\"be8319d57f584f5c7e5edda28412db11\", element=\"9da700c5-757c-49e8-95b6-95829f5218a1\")>,\n",
       " <selenium.webdriver.remote.webelement.WebElement (session=\"be8319d57f584f5c7e5edda28412db11\", element=\"3cd9eae2-cea1-4418-99ed-7e770cdadbcb\")>,\n",
       " <selenium.webdriver.remote.webelement.WebElement (session=\"be8319d57f584f5c7e5edda28412db11\", element=\"63a9bab5-6597-49be-819b-f3b3cd4ffa46\")>,\n",
       " <selenium.webdriver.remote.webelement.WebElement (session=\"be8319d57f584f5c7e5edda28412db11\", element=\"85d1fd60-7ed8-4f7c-bae6-1d41daf5eac7\")>,\n",
       " <selenium.webdriver.remote.webelement.WebElement (session=\"be8319d57f584f5c7e5edda28412db11\", element=\"29830dc0-f494-4a85-99c9-75e572ca8cf9\")>,\n",
       " <selenium.webdriver.remote.webelement.WebElement (session=\"be8319d57f584f5c7e5edda28412db11\", element=\"def07c13-99eb-480c-b4ec-1dda21941489\")>,\n",
       " <selenium.webdriver.remote.webelement.WebElement (session=\"be8319d57f584f5c7e5edda28412db11\", element=\"8e7d5f7d-933c-4342-a43e-3e6336d11cf7\")>,\n",
       " <selenium.webdriver.remote.webelement.WebElement (session=\"be8319d57f584f5c7e5edda28412db11\", element=\"8c613a22-4b7e-4870-94fc-1c508d480e64\")>,\n",
       " <selenium.webdriver.remote.webelement.WebElement (session=\"be8319d57f584f5c7e5edda28412db11\", element=\"70e6802e-26b9-4ab0-874c-956b87ff94b9\")>]"
      ]
     },
     "execution_count": 12,
     "metadata": {},
     "output_type": "execute_result"
    }
   ],
   "source": [
    "locations_tags=driver.find_elements_by_xpath(\"//li[@class='fleft grey-text br2 placeHolderLi location']/span[1]\")\n",
    "locations_tags[0:10]"
   ]
  },
  {
   "cell_type": "code",
   "execution_count": 13,
   "metadata": {},
   "outputs": [
    {
     "data": {
      "text/plain": [
       "['Delhi NCR, Bengaluru, Hyderabad',\n",
       " 'Chennai, Pune, Bengaluru, Hyderabad',\n",
       " 'Bengaluru',\n",
       " 'Bengaluru, Hyderabad',\n",
       " 'Mumbai, Bengaluru',\n",
       " 'Chennai, Pune, Mumbai, Bengaluru, Hyderabad, Kolkata',\n",
       " 'Bengaluru, India',\n",
       " 'Bengaluru',\n",
       " 'Bengaluru',\n",
       " 'Bengaluru']"
      ]
     },
     "execution_count": 13,
     "metadata": {},
     "output_type": "execute_result"
    }
   ],
   "source": [
    "for i in locations_tags:\n",
    "    location=i.text\n",
    "    locations_list.append(location)\n",
    "    \n",
    "    \n",
    "locations_list[0:10]\n",
    "    "
   ]
  },
  {
   "cell_type": "code",
   "execution_count": 14,
   "metadata": {},
   "outputs": [
    {
     "name": "stdout",
     "output_type": "stream",
     "text": [
      "20 20 20\n"
     ]
    }
   ],
   "source": [
    "print(len(job_titles),len(company_names),len(locations_list))"
   ]
  },
  {
   "cell_type": "code",
   "execution_count": 15,
   "metadata": {},
   "outputs": [],
   "source": [
    "import pandas as pd\n",
    "jobs=pd.DataFrame({})\n",
    "jobs['title']=job_titles[0:10]\n",
    "jobs['company']=company_names[0:10]\n",
    "jobs['locations']=locations_list[0:10]"
   ]
  },
  {
   "cell_type": "code",
   "execution_count": 16,
   "metadata": {},
   "outputs": [
    {
     "data": {
      "text/html": [
       "<div>\n",
       "<style scoped>\n",
       "    .dataframe tbody tr th:only-of-type {\n",
       "        vertical-align: middle;\n",
       "    }\n",
       "\n",
       "    .dataframe tbody tr th {\n",
       "        vertical-align: top;\n",
       "    }\n",
       "\n",
       "    .dataframe thead th {\n",
       "        text-align: right;\n",
       "    }\n",
       "</style>\n",
       "<table border=\"1\" class=\"dataframe\">\n",
       "  <thead>\n",
       "    <tr style=\"text-align: right;\">\n",
       "      <th></th>\n",
       "      <th>title</th>\n",
       "      <th>company</th>\n",
       "      <th>locations</th>\n",
       "    </tr>\n",
       "  </thead>\n",
       "  <tbody>\n",
       "    <tr>\n",
       "      <th>0</th>\n",
       "      <td>Fresher Data Engineer / Data Scientist / Data ...</td>\n",
       "      <td>ACHYUTAS SOFT PRIVATE LIMITED</td>\n",
       "      <td>Delhi NCR, Bengaluru, Hyderabad</td>\n",
       "    </tr>\n",
       "    <tr>\n",
       "      <th>1</th>\n",
       "      <td>Immediate opening For Data Scientist/Data Analyst</td>\n",
       "      <td>CAIA-Center For Artificial Intelligence &amp; Adva...</td>\n",
       "      <td>Chennai, Pune, Bengaluru, Hyderabad</td>\n",
       "    </tr>\n",
       "    <tr>\n",
       "      <th>2</th>\n",
       "      <td>Data Scientist - Machine Learning</td>\n",
       "      <td>BLUE YONDER INDIA PRIVATE LIMITED</td>\n",
       "      <td>Bengaluru</td>\n",
       "    </tr>\n",
       "    <tr>\n",
       "      <th>3</th>\n",
       "      <td>Senior Data Scientist - NLP/ Python/ R</td>\n",
       "      <td>AVI Consulting LLP</td>\n",
       "      <td>Bengaluru, Hyderabad</td>\n",
       "    </tr>\n",
       "    <tr>\n",
       "      <th>4</th>\n",
       "      <td>Artificial Intelligence Analyst/Data Scientist</td>\n",
       "      <td>TalentCo Search Pvt Ltd</td>\n",
       "      <td>Mumbai, Bengaluru</td>\n",
       "    </tr>\n",
       "    <tr>\n",
       "      <th>5</th>\n",
       "      <td>Data Scientist</td>\n",
       "      <td>Mailkit Private Limited</td>\n",
       "      <td>Chennai, Pune, Mumbai, Bengaluru, Hyderabad, K...</td>\n",
       "    </tr>\n",
       "    <tr>\n",
       "      <th>6</th>\n",
       "      <td>Global Medical Data Scientist</td>\n",
       "      <td>GlaxoSmithKline Pharmaceuticals Limited</td>\n",
       "      <td>Bengaluru, India</td>\n",
       "    </tr>\n",
       "    <tr>\n",
       "      <th>7</th>\n",
       "      <td>Advanced Architect - Data Scientist</td>\n",
       "      <td>Mphasis Limited</td>\n",
       "      <td>Bengaluru</td>\n",
       "    </tr>\n",
       "    <tr>\n",
       "      <th>8</th>\n",
       "      <td>AI Resident Data Scientist Stats. Consl.</td>\n",
       "      <td>Shell India Markets Private Limited</td>\n",
       "      <td>Bengaluru</td>\n",
       "    </tr>\n",
       "    <tr>\n",
       "      <th>9</th>\n",
       "      <td>AI Resident - Data Scientist</td>\n",
       "      <td>Shell India Markets Private Limited</td>\n",
       "      <td>Bengaluru</td>\n",
       "    </tr>\n",
       "  </tbody>\n",
       "</table>\n",
       "</div>"
      ],
      "text/plain": [
       "                                               title  \\\n",
       "0  Fresher Data Engineer / Data Scientist / Data ...   \n",
       "1  Immediate opening For Data Scientist/Data Analyst   \n",
       "2                  Data Scientist - Machine Learning   \n",
       "3             Senior Data Scientist - NLP/ Python/ R   \n",
       "4     Artificial Intelligence Analyst/Data Scientist   \n",
       "5                                     Data Scientist   \n",
       "6                      Global Medical Data Scientist   \n",
       "7                Advanced Architect - Data Scientist   \n",
       "8           AI Resident Data Scientist Stats. Consl.   \n",
       "9                       AI Resident - Data Scientist   \n",
       "\n",
       "                                             company  \\\n",
       "0                      ACHYUTAS SOFT PRIVATE LIMITED   \n",
       "1  CAIA-Center For Artificial Intelligence & Adva...   \n",
       "2                  BLUE YONDER INDIA PRIVATE LIMITED   \n",
       "3                                 AVI Consulting LLP   \n",
       "4                            TalentCo Search Pvt Ltd   \n",
       "5                            Mailkit Private Limited   \n",
       "6            GlaxoSmithKline Pharmaceuticals Limited   \n",
       "7                                    Mphasis Limited   \n",
       "8                Shell India Markets Private Limited   \n",
       "9                Shell India Markets Private Limited   \n",
       "\n",
       "                                           locations  \n",
       "0                    Delhi NCR, Bengaluru, Hyderabad  \n",
       "1                Chennai, Pune, Bengaluru, Hyderabad  \n",
       "2                                          Bengaluru  \n",
       "3                               Bengaluru, Hyderabad  \n",
       "4                                  Mumbai, Bengaluru  \n",
       "5  Chennai, Pune, Mumbai, Bengaluru, Hyderabad, K...  \n",
       "6                                   Bengaluru, India  \n",
       "7                                          Bengaluru  \n",
       "8                                          Bengaluru  \n",
       "9                                          Bengaluru  "
      ]
     },
     "execution_count": 16,
     "metadata": {},
     "output_type": "execute_result"
    }
   ],
   "source": [
    "jobs"
   ]
  },
  {
   "cell_type": "code",
   "execution_count": null,
   "metadata": {},
   "outputs": [],
   "source": []
  }
 ],
 "metadata": {
  "kernelspec": {
   "display_name": "Python 3",
   "language": "python",
   "name": "python3"
  },
  "language_info": {
   "codemirror_mode": {
    "name": "ipython",
    "version": 3
   },
   "file_extension": ".py",
   "mimetype": "text/x-python",
   "name": "python",
   "nbconvert_exporter": "python",
   "pygments_lexer": "ipython3",
   "version": "3.7.6"
  }
 },
 "nbformat": 4,
 "nbformat_minor": 4
}
