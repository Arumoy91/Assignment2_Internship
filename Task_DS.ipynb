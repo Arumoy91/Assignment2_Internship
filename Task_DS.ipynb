{
 "cells": [
  {
   "cell_type": "code",
   "execution_count": 1,
   "metadata": {},
   "outputs": [],
   "source": [
    "import selenium"
   ]
  },
  {
   "cell_type": "code",
   "execution_count": 2,
   "metadata": {},
   "outputs": [],
   "source": [
    "import pandas as pd\n",
    "from selenium import webdriver"
   ]
  },
  {
   "cell_type": "code",
   "execution_count": 3,
   "metadata": {},
   "outputs": [],
   "source": [
    "driver=webdriver.Chrome(\"C:\\chromedriver.exe\")"
   ]
  },
  {
   "cell_type": "code",
   "execution_count": 4,
   "metadata": {},
   "outputs": [],
   "source": [
    "driver.get('https://www.naukri.com/')"
   ]
  },
  {
   "cell_type": "code",
   "execution_count": 5,
   "metadata": {},
   "outputs": [],
   "source": [
    "search_job=driver.find_element_by_id('qsb-keyword-sugg')\n",
    "search_job.send_keys(\"Data Scientist\")\n",
    "search_loc=driver.find_element_by_id(\"qsb-location-sugg\")\n",
    "search_loc.send_keys(\"Delhi\")"
   ]
  },
  {
   "cell_type": "code",
   "execution_count": 6,
   "metadata": {},
   "outputs": [],
   "source": [
    "search_btn=driver.find_element_by_xpath(\"//div[@class='search-btn']/button\")\n",
    "search_btn.click()"
   ]
  },
  {
   "cell_type": "code",
   "execution_count": 7,
   "metadata": {},
   "outputs": [],
   "source": [
    "job_titles=[]\n",
    "company_names=[]\n",
    "locations_list=[]\n",
    "experience_list=[]\n",
    "salary_list=[]"
   ]
  },
  {
   "cell_type": "code",
   "execution_count": 23,
   "metadata": {},
   "outputs": [
    {
     "data": {
      "text/plain": [
       "[<selenium.webdriver.remote.webelement.WebElement (session=\"67e503c4e5119f558d9de89fb4c8a4d3\", element=\"0dfb5ba1-9df5-4f3b-b3c5-378a6aea84ca\")>,\n",
       " <selenium.webdriver.remote.webelement.WebElement (session=\"67e503c4e5119f558d9de89fb4c8a4d3\", element=\"614f7526-65cf-458a-a75e-08e3435b3758\")>,\n",
       " <selenium.webdriver.remote.webelement.WebElement (session=\"67e503c4e5119f558d9de89fb4c8a4d3\", element=\"74737c4c-443b-4101-b18c-8ae9bcc4a45e\")>,\n",
       " <selenium.webdriver.remote.webelement.WebElement (session=\"67e503c4e5119f558d9de89fb4c8a4d3\", element=\"1791a2ae-db6f-4f86-ad3c-7ce8486f0e04\")>,\n",
       " <selenium.webdriver.remote.webelement.WebElement (session=\"67e503c4e5119f558d9de89fb4c8a4d3\", element=\"b0532e49-a65d-41b8-89eb-18a051623361\")>,\n",
       " <selenium.webdriver.remote.webelement.WebElement (session=\"67e503c4e5119f558d9de89fb4c8a4d3\", element=\"fae33533-8cfc-47e7-81b3-4a8ef4de8f30\")>,\n",
       " <selenium.webdriver.remote.webelement.WebElement (session=\"67e503c4e5119f558d9de89fb4c8a4d3\", element=\"33afbea4-7bf1-4ba1-a05c-2311b8c5ae42\")>,\n",
       " <selenium.webdriver.remote.webelement.WebElement (session=\"67e503c4e5119f558d9de89fb4c8a4d3\", element=\"d9414499-46bb-4ba9-8f81-b1b56eac8286\")>,\n",
       " <selenium.webdriver.remote.webelement.WebElement (session=\"67e503c4e5119f558d9de89fb4c8a4d3\", element=\"ee1da0fd-793c-4161-b6fe-3e60fb56165d\")>]"
      ]
     },
     "execution_count": 23,
     "metadata": {},
     "output_type": "execute_result"
    }
   ],
   "source": [
    "title_tags=driver.find_elements_by_xpath(\"//a[@class='title fw500 ellipsis']\")\n",
    "title_tags[0:9]"
   ]
  },
  {
   "cell_type": "code",
   "execution_count": 24,
   "metadata": {},
   "outputs": [
    {
     "data": {
      "text/plain": [
       "['Fresher Data Engineer / Data Scientist / Data Analyst Requirements',\n",
       " 'Data Scientist/Analyst - Machine Learning/Deep Learning',\n",
       " 'Data Scientist - Python/Machine Learning',\n",
       " 'Machine Learning Engineer / Data Scientist',\n",
       " 'Machine Learning Engineer / Data Scientist',\n",
       " 'Only Fresher / Data Scientist / Data Analyst / Business Analytics- MNC',\n",
       " 'Senior Data Scientist (Remote / Work from Home)',\n",
       " 'Analyst/Senior Analyst - DATA Scientist',\n",
       " 'Lead Data Scientist']"
      ]
     },
     "execution_count": 24,
     "metadata": {},
     "output_type": "execute_result"
    }
   ],
   "source": [
    "for i in title_tags:\n",
    "    \n",
    "    title=i.text\n",
    "    job_titles.append(title)\n",
    "job_titles[0:9]"
   ]
  },
  {
   "cell_type": "code",
   "execution_count": 25,
   "metadata": {},
   "outputs": [
    {
     "data": {
      "text/plain": [
       "[<selenium.webdriver.remote.webelement.WebElement (session=\"67e503c4e5119f558d9de89fb4c8a4d3\", element=\"41e04fa1-99e7-44fd-9f29-2f727c9311f4\")>,\n",
       " <selenium.webdriver.remote.webelement.WebElement (session=\"67e503c4e5119f558d9de89fb4c8a4d3\", element=\"cb5d12e2-ca11-4051-8ea7-27d8a7d75f26\")>,\n",
       " <selenium.webdriver.remote.webelement.WebElement (session=\"67e503c4e5119f558d9de89fb4c8a4d3\", element=\"84b7a9a0-44d6-4f19-92dd-c75125258f1a\")>,\n",
       " <selenium.webdriver.remote.webelement.WebElement (session=\"67e503c4e5119f558d9de89fb4c8a4d3\", element=\"c81cc675-5e5c-4c52-b220-7251cca71b0d\")>,\n",
       " <selenium.webdriver.remote.webelement.WebElement (session=\"67e503c4e5119f558d9de89fb4c8a4d3\", element=\"6235d63e-a092-4a14-8e66-cc5ba04fae07\")>,\n",
       " <selenium.webdriver.remote.webelement.WebElement (session=\"67e503c4e5119f558d9de89fb4c8a4d3\", element=\"c29df303-ff0a-45d3-bb1a-5f96f27b5ca9\")>,\n",
       " <selenium.webdriver.remote.webelement.WebElement (session=\"67e503c4e5119f558d9de89fb4c8a4d3\", element=\"698de14f-9d73-49d0-b1b6-b14280aee832\")>,\n",
       " <selenium.webdriver.remote.webelement.WebElement (session=\"67e503c4e5119f558d9de89fb4c8a4d3\", element=\"c73ae281-c3ea-4ce9-93d9-a7e3da46d63d\")>,\n",
       " <selenium.webdriver.remote.webelement.WebElement (session=\"67e503c4e5119f558d9de89fb4c8a4d3\", element=\"35e36b80-7931-45a9-b664-54e30b9f44ef\")>]"
      ]
     },
     "execution_count": 25,
     "metadata": {},
     "output_type": "execute_result"
    }
   ],
   "source": [
    "companies_tags=driver.find_elements_by_xpath(\"//a[@class='subTitle ellipsis fleft']\")\n",
    "companies_tags[0:9]"
   ]
  },
  {
   "cell_type": "code",
   "execution_count": 26,
   "metadata": {},
   "outputs": [
    {
     "data": {
      "text/plain": [
       "['ACHYUTAS SOFT PRIVATE LIMITED',\n",
       " 'EchoIndia',\n",
       " 'Jubna',\n",
       " 'Durr AG',\n",
       " 'Durr India',\n",
       " 'GABA Consultancy services',\n",
       " 'WalletHub',\n",
       " 'Tredence',\n",
       " 'Freshdesk']"
      ]
     },
     "execution_count": 26,
     "metadata": {},
     "output_type": "execute_result"
    }
   ],
   "source": [
    "for i in companies_tags:\n",
    "    \n",
    "    company_name=i.text\n",
    "    company_names.append(company_name)\n",
    "company_names[0:9]"
   ]
  },
  {
   "cell_type": "code",
   "execution_count": 12,
   "metadata": {},
   "outputs": [
    {
     "data": {
      "text/plain": [
       "[<selenium.webdriver.remote.webelement.WebElement (session=\"67e503c4e5119f558d9de89fb4c8a4d3\", element=\"c79bc7be-30d7-47e7-a176-86adfda93caf\")>,\n",
       " <selenium.webdriver.remote.webelement.WebElement (session=\"67e503c4e5119f558d9de89fb4c8a4d3\", element=\"3e31184d-0c03-46db-a9fd-079f72721484\")>,\n",
       " <selenium.webdriver.remote.webelement.WebElement (session=\"67e503c4e5119f558d9de89fb4c8a4d3\", element=\"fa0a9aea-5c3b-41aa-abcd-446bd100d6f6\")>,\n",
       " <selenium.webdriver.remote.webelement.WebElement (session=\"67e503c4e5119f558d9de89fb4c8a4d3\", element=\"35d35b3e-9a11-489f-bfdb-f11111dec5d4\")>,\n",
       " <selenium.webdriver.remote.webelement.WebElement (session=\"67e503c4e5119f558d9de89fb4c8a4d3\", element=\"c78dd584-49e4-454b-96e5-37cc3ce7f77f\")>,\n",
       " <selenium.webdriver.remote.webelement.WebElement (session=\"67e503c4e5119f558d9de89fb4c8a4d3\", element=\"6bc285af-3b64-4d99-9601-708e7d49c1bc\")>,\n",
       " <selenium.webdriver.remote.webelement.WebElement (session=\"67e503c4e5119f558d9de89fb4c8a4d3\", element=\"0be784af-8e8d-4700-92dc-ed1c490d7985\")>,\n",
       " <selenium.webdriver.remote.webelement.WebElement (session=\"67e503c4e5119f558d9de89fb4c8a4d3\", element=\"fb08f2ac-42f5-452b-9c64-2d98d01cd84e\")>,\n",
       " <selenium.webdriver.remote.webelement.WebElement (session=\"67e503c4e5119f558d9de89fb4c8a4d3\", element=\"cc72677f-b01c-4d16-9008-5fdc388fc070\")>]"
      ]
     },
     "execution_count": 12,
     "metadata": {},
     "output_type": "execute_result"
    }
   ],
   "source": [
    "locations_tags=driver.find_elements_by_xpath(\"//li[@class='fleft grey-text br2 placeHolderLi location']/span[1]\")\n",
    "locations_tags[0:9]"
   ]
  },
  {
   "cell_type": "code",
   "execution_count": 13,
   "metadata": {},
   "outputs": [
    {
     "data": {
      "text/plain": [
       "['Delhi NCR, Bengaluru, Hyderabad',\n",
       " 'Delhi',\n",
       " 'Noida',\n",
       " 'Noida',\n",
       " 'Noida',\n",
       " 'Delhi NCR, Greater Noida, Noida',\n",
       " 'Chennai, Delhi NCR, Bengaluru',\n",
       " 'Chennai, Delhi NCR, Bengaluru',\n",
       " 'Faridabad, Chennai, Bengaluru']"
      ]
     },
     "execution_count": 13,
     "metadata": {},
     "output_type": "execute_result"
    }
   ],
   "source": [
    "for i in locations_tags:\n",
    "    location=i.text\n",
    "    locations_list.append(location)\n",
    "    \n",
    "    \n",
    "locations_list[0:9]"
   ]
  },
  {
   "cell_type": "code",
   "execution_count": 14,
   "metadata": {},
   "outputs": [
    {
     "data": {
      "text/plain": [
       "[<selenium.webdriver.remote.webelement.WebElement (session=\"67e503c4e5119f558d9de89fb4c8a4d3\", element=\"14ce8cd8-b06d-497f-8a2a-226cd98a38db\")>,\n",
       " <selenium.webdriver.remote.webelement.WebElement (session=\"67e503c4e5119f558d9de89fb4c8a4d3\", element=\"4af0dd4e-2d91-4904-b968-e583fe9d7dc3\")>,\n",
       " <selenium.webdriver.remote.webelement.WebElement (session=\"67e503c4e5119f558d9de89fb4c8a4d3\", element=\"3eef0bb2-f3df-4b05-9ef7-3a5590583b8d\")>,\n",
       " <selenium.webdriver.remote.webelement.WebElement (session=\"67e503c4e5119f558d9de89fb4c8a4d3\", element=\"6d291a9e-6430-4164-96ec-5b687fbe7c12\")>,\n",
       " <selenium.webdriver.remote.webelement.WebElement (session=\"67e503c4e5119f558d9de89fb4c8a4d3\", element=\"0a293543-d2da-4ca4-a6f4-f04c0bb9733f\")>,\n",
       " <selenium.webdriver.remote.webelement.WebElement (session=\"67e503c4e5119f558d9de89fb4c8a4d3\", element=\"ebab2e42-484e-497f-b44f-a1f1512625ab\")>,\n",
       " <selenium.webdriver.remote.webelement.WebElement (session=\"67e503c4e5119f558d9de89fb4c8a4d3\", element=\"95824e60-bbfa-4bf4-b7e5-49b83b6ebe2b\")>,\n",
       " <selenium.webdriver.remote.webelement.WebElement (session=\"67e503c4e5119f558d9de89fb4c8a4d3\", element=\"caae655e-1f1c-44c3-842b-cb58d8a50247\")>,\n",
       " <selenium.webdriver.remote.webelement.WebElement (session=\"67e503c4e5119f558d9de89fb4c8a4d3\", element=\"dc5dd2d5-1614-4ff4-a02d-6e0209724527\")>]"
      ]
     },
     "execution_count": 14,
     "metadata": {},
     "output_type": "execute_result"
    }
   ],
   "source": [
    "experience_tags=driver.find_elements_by_xpath(\"//li[@class='fleft grey-text br2 placeHolderLi experience']/span[1]\")\n",
    "experience_tags[0:9]"
   ]
  },
  {
   "cell_type": "code",
   "execution_count": 15,
   "metadata": {},
   "outputs": [
    {
     "data": {
      "text/plain": [
       "['3-6 Yrs', '5-8 Yrs', '3-8 Yrs', '3-7 Yrs']"
      ]
     },
     "execution_count": 15,
     "metadata": {},
     "output_type": "execute_result"
    }
   ],
   "source": [
    "for i in experience_tags:\n",
    "    experience=i.text\n",
    "    experience_list.append(experience)\n",
    "    \n",
    "    \n",
    "experience_list[1:5]"
   ]
  },
  {
   "cell_type": "code",
   "execution_count": 16,
   "metadata": {},
   "outputs": [
    {
     "data": {
      "text/plain": [
       "[<selenium.webdriver.remote.webelement.WebElement (session=\"67e503c4e5119f558d9de89fb4c8a4d3\", element=\"4409ddae-bdec-4513-9087-c173e0e4dced\")>,\n",
       " <selenium.webdriver.remote.webelement.WebElement (session=\"67e503c4e5119f558d9de89fb4c8a4d3\", element=\"445a7b7c-3afa-4f5c-968f-71e63a418791\")>,\n",
       " <selenium.webdriver.remote.webelement.WebElement (session=\"67e503c4e5119f558d9de89fb4c8a4d3\", element=\"d9e166dc-4dde-44f9-b1c8-b7ae01f974a8\")>,\n",
       " <selenium.webdriver.remote.webelement.WebElement (session=\"67e503c4e5119f558d9de89fb4c8a4d3\", element=\"ae203f1a-b252-455f-a0e9-94a8a469e60a\")>,\n",
       " <selenium.webdriver.remote.webelement.WebElement (session=\"67e503c4e5119f558d9de89fb4c8a4d3\", element=\"9a3c4584-804f-4e13-aea2-6eaa77ee0491\")>,\n",
       " <selenium.webdriver.remote.webelement.WebElement (session=\"67e503c4e5119f558d9de89fb4c8a4d3\", element=\"be1bbb63-d201-4a01-be94-10e30b4686d3\")>,\n",
       " <selenium.webdriver.remote.webelement.WebElement (session=\"67e503c4e5119f558d9de89fb4c8a4d3\", element=\"6c419c70-c493-46e3-a2ab-1449b0eccf6b\")>,\n",
       " <selenium.webdriver.remote.webelement.WebElement (session=\"67e503c4e5119f558d9de89fb4c8a4d3\", element=\"52cfbcf2-ca82-41d6-9c44-d91fb6e1cb3c\")>,\n",
       " <selenium.webdriver.remote.webelement.WebElement (session=\"67e503c4e5119f558d9de89fb4c8a4d3\", element=\"31ba313b-5922-4ef3-9339-44b8e1c5d310\")>]"
      ]
     },
     "execution_count": 16,
     "metadata": {},
     "output_type": "execute_result"
    }
   ],
   "source": [
    "salary_tags=driver.find_elements_by_xpath(\"//li[@class='fleft grey-text br2 placeHolderLi salary']/span[1]\")\n",
    "salary_tags[0:9]"
   ]
  },
  {
   "cell_type": "code",
   "execution_count": 17,
   "metadata": {},
   "outputs": [
    {
     "data": {
      "text/plain": [
       "['3,50,000 - 8,50,000 PA.',\n",
       " 'Not disclosed',\n",
       " 'Not disclosed',\n",
       " 'Not disclosed',\n",
       " 'Not disclosed',\n",
       " '2,25,000 - 4,75,000 PA.']"
      ]
     },
     "execution_count": 17,
     "metadata": {},
     "output_type": "execute_result"
    }
   ],
   "source": [
    "for i in salary_tags:\n",
    "    salary=i.text\n",
    "    salary_list.append(salary)\n",
    "    \n",
    "    \n",
    "salary_list[0:6]"
   ]
  },
  {
   "cell_type": "code",
   "execution_count": 27,
   "metadata": {},
   "outputs": [
    {
     "name": "stdout",
     "output_type": "stream",
     "text": [
      "20 20 20 20 20\n"
     ]
    }
   ],
   "source": [
    "print(len(job_titles),len(company_names),len(locations_list),len(experience_list),len(salary_list))"
   ]
  },
  {
   "cell_type": "code",
   "execution_count": 28,
   "metadata": {},
   "outputs": [],
   "source": [
    "import pandas as pd\n",
    "jobs=pd.DataFrame({})\n"
   ]
  },
  {
   "cell_type": "code",
   "execution_count": 29,
   "metadata": {},
   "outputs": [],
   "source": [
    "jobs['title']=job_titles[0:9]\n",
    "jobs['company']=company_names[0:9]\n",
    "jobs['locations']=locations_list[0:9]\n"
   ]
  },
  {
   "cell_type": "code",
   "execution_count": 31,
   "metadata": {},
   "outputs": [],
   "source": [
    "jobs['experience']=experience_list[0:9]\n",
    "jobs['salary']=salary_list[0:9]\n"
   ]
  },
  {
   "cell_type": "code",
   "execution_count": 32,
   "metadata": {},
   "outputs": [
    {
     "data": {
      "text/html": [
       "<div>\n",
       "<style scoped>\n",
       "    .dataframe tbody tr th:only-of-type {\n",
       "        vertical-align: middle;\n",
       "    }\n",
       "\n",
       "    .dataframe tbody tr th {\n",
       "        vertical-align: top;\n",
       "    }\n",
       "\n",
       "    .dataframe thead th {\n",
       "        text-align: right;\n",
       "    }\n",
       "</style>\n",
       "<table border=\"1\" class=\"dataframe\">\n",
       "  <thead>\n",
       "    <tr style=\"text-align: right;\">\n",
       "      <th></th>\n",
       "      <th>title</th>\n",
       "      <th>company</th>\n",
       "      <th>locations</th>\n",
       "      <th>experience</th>\n",
       "      <th>salary</th>\n",
       "    </tr>\n",
       "  </thead>\n",
       "  <tbody>\n",
       "    <tr>\n",
       "      <th>0</th>\n",
       "      <td>Fresher Data Engineer / Data Scientist / Data ...</td>\n",
       "      <td>ACHYUTAS SOFT PRIVATE LIMITED</td>\n",
       "      <td>Delhi NCR, Bengaluru, Hyderabad</td>\n",
       "      <td>0-2 Yrs</td>\n",
       "      <td>3,50,000 - 8,50,000 PA.</td>\n",
       "    </tr>\n",
       "    <tr>\n",
       "      <th>1</th>\n",
       "      <td>Data Scientist/Analyst - Machine Learning/Deep...</td>\n",
       "      <td>EchoIndia</td>\n",
       "      <td>Delhi</td>\n",
       "      <td>3-6 Yrs</td>\n",
       "      <td>Not disclosed</td>\n",
       "    </tr>\n",
       "    <tr>\n",
       "      <th>2</th>\n",
       "      <td>Data Scientist - Python/Machine Learning</td>\n",
       "      <td>Jubna</td>\n",
       "      <td>Noida</td>\n",
       "      <td>5-8 Yrs</td>\n",
       "      <td>Not disclosed</td>\n",
       "    </tr>\n",
       "    <tr>\n",
       "      <th>3</th>\n",
       "      <td>Machine Learning Engineer / Data Scientist</td>\n",
       "      <td>Durr AG</td>\n",
       "      <td>Noida</td>\n",
       "      <td>3-8 Yrs</td>\n",
       "      <td>Not disclosed</td>\n",
       "    </tr>\n",
       "    <tr>\n",
       "      <th>4</th>\n",
       "      <td>Machine Learning Engineer / Data Scientist</td>\n",
       "      <td>Durr India</td>\n",
       "      <td>Noida</td>\n",
       "      <td>3-7 Yrs</td>\n",
       "      <td>Not disclosed</td>\n",
       "    </tr>\n",
       "    <tr>\n",
       "      <th>5</th>\n",
       "      <td>Only Fresher / Data Scientist / Data Analyst /...</td>\n",
       "      <td>GABA Consultancy services</td>\n",
       "      <td>Delhi NCR, Greater Noida, Noida</td>\n",
       "      <td>0-0 Yrs</td>\n",
       "      <td>2,25,000 - 4,75,000 PA.</td>\n",
       "    </tr>\n",
       "    <tr>\n",
       "      <th>6</th>\n",
       "      <td>Senior Data Scientist (Remote / Work from Home)</td>\n",
       "      <td>WalletHub</td>\n",
       "      <td>Chennai, Delhi NCR, Bengaluru</td>\n",
       "      <td>10-20 Yrs</td>\n",
       "      <td>25,00,000 - 40,00,000 PA.</td>\n",
       "    </tr>\n",
       "    <tr>\n",
       "      <th>7</th>\n",
       "      <td>Analyst/Senior Analyst - DATA Scientist</td>\n",
       "      <td>Tredence</td>\n",
       "      <td>Chennai, Delhi NCR, Bengaluru</td>\n",
       "      <td>2-4 Yrs</td>\n",
       "      <td>6,50,000 - 8,00,000 PA.</td>\n",
       "    </tr>\n",
       "    <tr>\n",
       "      <th>8</th>\n",
       "      <td>Lead Data Scientist</td>\n",
       "      <td>Freshdesk</td>\n",
       "      <td>Faridabad, Chennai, Bengaluru</td>\n",
       "      <td>5-8 Yrs</td>\n",
       "      <td>Not disclosed</td>\n",
       "    </tr>\n",
       "  </tbody>\n",
       "</table>\n",
       "</div>"
      ],
      "text/plain": [
       "                                               title  \\\n",
       "0  Fresher Data Engineer / Data Scientist / Data ...   \n",
       "1  Data Scientist/Analyst - Machine Learning/Deep...   \n",
       "2           Data Scientist - Python/Machine Learning   \n",
       "3         Machine Learning Engineer / Data Scientist   \n",
       "4         Machine Learning Engineer / Data Scientist   \n",
       "5  Only Fresher / Data Scientist / Data Analyst /...   \n",
       "6    Senior Data Scientist (Remote / Work from Home)   \n",
       "7            Analyst/Senior Analyst - DATA Scientist   \n",
       "8                                Lead Data Scientist   \n",
       "\n",
       "                         company                        locations experience  \\\n",
       "0  ACHYUTAS SOFT PRIVATE LIMITED  Delhi NCR, Bengaluru, Hyderabad    0-2 Yrs   \n",
       "1                      EchoIndia                            Delhi    3-6 Yrs   \n",
       "2                          Jubna                            Noida    5-8 Yrs   \n",
       "3                        Durr AG                            Noida    3-8 Yrs   \n",
       "4                     Durr India                            Noida    3-7 Yrs   \n",
       "5      GABA Consultancy services  Delhi NCR, Greater Noida, Noida    0-0 Yrs   \n",
       "6                      WalletHub    Chennai, Delhi NCR, Bengaluru  10-20 Yrs   \n",
       "7                       Tredence    Chennai, Delhi NCR, Bengaluru    2-4 Yrs   \n",
       "8                      Freshdesk    Faridabad, Chennai, Bengaluru    5-8 Yrs   \n",
       "\n",
       "                      salary  \n",
       "0    3,50,000 - 8,50,000 PA.  \n",
       "1              Not disclosed  \n",
       "2              Not disclosed  \n",
       "3              Not disclosed  \n",
       "4              Not disclosed  \n",
       "5    2,25,000 - 4,75,000 PA.  \n",
       "6  25,00,000 - 40,00,000 PA.  \n",
       "7    6,50,000 - 8,00,000 PA.  \n",
       "8              Not disclosed  "
      ]
     },
     "execution_count": 32,
     "metadata": {},
     "output_type": "execute_result"
    }
   ],
   "source": [
    "jobs"
   ]
  },
  {
   "cell_type": "code",
   "execution_count": null,
   "metadata": {},
   "outputs": [],
   "source": []
  }
 ],
 "metadata": {
  "kernelspec": {
   "display_name": "Python 3",
   "language": "python",
   "name": "python3"
  },
  "language_info": {
   "codemirror_mode": {
    "name": "ipython",
    "version": 3
   },
   "file_extension": ".py",
   "mimetype": "text/x-python",
   "name": "python",
   "nbconvert_exporter": "python",
   "pygments_lexer": "ipython3",
   "version": "3.7.6"
  }
 },
 "nbformat": 4,
 "nbformat_minor": 4
}
