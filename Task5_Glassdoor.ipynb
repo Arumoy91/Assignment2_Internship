{
 "cells": [
  {
   "cell_type": "code",
   "execution_count": 1,
   "metadata": {},
   "outputs": [],
   "source": [
    "import selenium"
   ]
  },
  {
   "cell_type": "code",
   "execution_count": 2,
   "metadata": {},
   "outputs": [],
   "source": [
    "import pandas as pd\n",
    "from selenium import webdriver\n",
    "from bs4 import BeautifulSoup"
   ]
  },
  {
   "cell_type": "code",
   "execution_count": 3,
   "metadata": {},
   "outputs": [],
   "source": [
    "driver=webdriver.Chrome(\"C:\\chromedriver.exe\")"
   ]
  },
  {
   "cell_type": "code",
   "execution_count": 4,
   "metadata": {},
   "outputs": [],
   "source": [
    "driver.get('https://www.glassdoor.com/')"
   ]
  },
  {
   "cell_type": "code",
   "execution_count": 5,
   "metadata": {},
   "outputs": [],
   "source": [
    "driver.get(r'https://www.glassdoor.com/Job/jobs.htm?suggestCount=0&suggestChosen=false&clickSource=searchBtn&typedKeyword=data+sc&locT=C&locId=4477468&jobType=&context=Jobs&sc.keyword=Data+Scientist&dropdown=0')\n",
    "html = driver.page_source\n",
    "soup = BeautifulSoup(html, 'lxml')"
   ]
  },
  {
   "cell_type": "code",
   "execution_count": 6,
   "metadata": {},
   "outputs": [],
   "source": [
    "job_titles=[]\n",
    "company_names=[]\n",
    "salary_list=[]"
   ]
  },
  {
   "cell_type": "code",
   "execution_count": 7,
   "metadata": {},
   "outputs": [
    {
     "data": {
      "text/plain": [
       "[<selenium.webdriver.remote.webelement.WebElement (session=\"93d1b88027c79b9fad8227e690868bc0\", element=\"d3882f9e-9b58-4b6f-b8c8-d4999c19fb65\")>,\n",
       " <selenium.webdriver.remote.webelement.WebElement (session=\"93d1b88027c79b9fad8227e690868bc0\", element=\"8a9f5192-6076-451e-a5c3-7930d3ec7791\")>,\n",
       " <selenium.webdriver.remote.webelement.WebElement (session=\"93d1b88027c79b9fad8227e690868bc0\", element=\"a194d177-9b88-4ad9-9cac-15af9893b3ed\")>,\n",
       " <selenium.webdriver.remote.webelement.WebElement (session=\"93d1b88027c79b9fad8227e690868bc0\", element=\"00f06ab3-d3f1-4214-af33-30dcb6ee6b32\")>,\n",
       " <selenium.webdriver.remote.webelement.WebElement (session=\"93d1b88027c79b9fad8227e690868bc0\", element=\"2caa437f-255d-405a-ae1d-5810a23921ee\")>,\n",
       " <selenium.webdriver.remote.webelement.WebElement (session=\"93d1b88027c79b9fad8227e690868bc0\", element=\"c731926f-dd0b-499f-a304-68be41e5ba02\")>,\n",
       " <selenium.webdriver.remote.webelement.WebElement (session=\"93d1b88027c79b9fad8227e690868bc0\", element=\"63bde487-c13e-4ffb-a932-624ec7ba9398\")>,\n",
       " <selenium.webdriver.remote.webelement.WebElement (session=\"93d1b88027c79b9fad8227e690868bc0\", element=\"25350b57-0627-4a78-83cc-eba567d44de0\")>,\n",
       " <selenium.webdriver.remote.webelement.WebElement (session=\"93d1b88027c79b9fad8227e690868bc0\", element=\"a1941755-9500-4946-93a5-2c6e17240ce8\")>,\n",
       " <selenium.webdriver.remote.webelement.WebElement (session=\"93d1b88027c79b9fad8227e690868bc0\", element=\"5d9f7123-6a39-4a01-b816-a55f4c7bf2cc\")>]"
      ]
     },
     "execution_count": 7,
     "metadata": {},
     "output_type": "execute_result"
    }
   ],
   "source": [
    "title_tags=driver.find_elements_by_xpath(\"//a[@class='jobInfoItem jobTitle css-13w0lq6 eigr9kq1 jobLink']\")\n",
    "title_tags[0:10]"
   ]
  },
  {
   "cell_type": "code",
   "execution_count": 8,
   "metadata": {},
   "outputs": [
    {
     "data": {
      "text/plain": [
       "['Assistant Manager - Data Scientist',\n",
       " 'Data Scientist',\n",
       " 'Data Analyst',\n",
       " 'Data Scientist',\n",
       " 'Data Scientist',\n",
       " 'Data Scientist',\n",
       " 'Data Scientist',\n",
       " 'Data Scientist',\n",
       " 'Data Scientist',\n",
       " 'Data Scientist']"
      ]
     },
     "execution_count": 8,
     "metadata": {},
     "output_type": "execute_result"
    }
   ],
   "source": [
    "for i in title_tags:\n",
    "    \n",
    "    title=i.text\n",
    "    job_titles.append(title)\n",
    "job_titles[0:10]"
   ]
  },
  {
   "cell_type": "code",
   "execution_count": 9,
   "metadata": {},
   "outputs": [
    {
     "data": {
      "text/plain": [
       "[<selenium.webdriver.remote.webelement.WebElement (session=\"93d1b88027c79b9fad8227e690868bc0\", element=\"c89169e6-2e23-4db8-85d5-d3e963ddd1e9\")>,\n",
       " <selenium.webdriver.remote.webelement.WebElement (session=\"93d1b88027c79b9fad8227e690868bc0\", element=\"361b8347-e709-4a33-9141-8902d0fd9105\")>,\n",
       " <selenium.webdriver.remote.webelement.WebElement (session=\"93d1b88027c79b9fad8227e690868bc0\", element=\"d2c9527a-f2d1-4996-9d97-c62ef9b6f215\")>,\n",
       " <selenium.webdriver.remote.webelement.WebElement (session=\"93d1b88027c79b9fad8227e690868bc0\", element=\"40b78260-2732-485a-bcba-a2460574baf5\")>,\n",
       " <selenium.webdriver.remote.webelement.WebElement (session=\"93d1b88027c79b9fad8227e690868bc0\", element=\"abbb686a-a19c-41d3-8c2b-2a269e757045\")>,\n",
       " <selenium.webdriver.remote.webelement.WebElement (session=\"93d1b88027c79b9fad8227e690868bc0\", element=\"abd2e20e-c9ac-41c3-8a2d-2a8d2809b5ff\")>,\n",
       " <selenium.webdriver.remote.webelement.WebElement (session=\"93d1b88027c79b9fad8227e690868bc0\", element=\"6187abc4-c87c-4c4c-aa46-8945955e3ac3\")>,\n",
       " <selenium.webdriver.remote.webelement.WebElement (session=\"93d1b88027c79b9fad8227e690868bc0\", element=\"422cf831-1f6a-458e-ab7a-8bd81f861ab8\")>,\n",
       " <selenium.webdriver.remote.webelement.WebElement (session=\"93d1b88027c79b9fad8227e690868bc0\", element=\"d61893a1-f692-4479-9b3b-d0ea409804d2\")>,\n",
       " <selenium.webdriver.remote.webelement.WebElement (session=\"93d1b88027c79b9fad8227e690868bc0\", element=\"1d8d050b-ce8f-4ba0-a88f-fefe704f3015\")>]"
      ]
     },
     "execution_count": 9,
     "metadata": {},
     "output_type": "execute_result"
    }
   ],
   "source": [
    "companies_tags=driver.find_elements_by_xpath(\"//div[@class='jobHeader d-flex justify-content-between align-items-start']\")\n",
    "companies_tags[0:10]"
   ]
  },
  {
   "cell_type": "code",
   "execution_count": 10,
   "metadata": {},
   "outputs": [
    {
     "data": {
      "text/plain": [
       "['Genpact',\n",
       " 'IHS Markit',\n",
       " 'GroundTruth',\n",
       " 'Algoscale',\n",
       " 'Gauge Data Solutions',\n",
       " 'MARKTECH CONSULTANCY',\n",
       " 'SearchUrCollege',\n",
       " 'Techlive',\n",
       " 'Ank Aha',\n",
       " 'Priority Vendor']"
      ]
     },
     "execution_count": 10,
     "metadata": {},
     "output_type": "execute_result"
    }
   ],
   "source": [
    "for i in companies_tags:\n",
    "    \n",
    "    company_name=i.text\n",
    "    company_names.append(company_name)\n",
    "company_names[0:10]"
   ]
  },
  {
   "cell_type": "code",
   "execution_count": 11,
   "metadata": {},
   "outputs": [
    {
     "data": {
      "text/plain": [
       "[<selenium.webdriver.remote.webelement.WebElement (session=\"93d1b88027c79b9fad8227e690868bc0\", element=\"f943c4b3-cb5d-4c37-a41f-c1a8edd0cd66\")>,\n",
       " <selenium.webdriver.remote.webelement.WebElement (session=\"93d1b88027c79b9fad8227e690868bc0\", element=\"571bb7d2-bb47-410f-93c7-f908748fac56\")>,\n",
       " <selenium.webdriver.remote.webelement.WebElement (session=\"93d1b88027c79b9fad8227e690868bc0\", element=\"2b815721-1f9c-4c6d-be8f-3171d69e340c\")>,\n",
       " <selenium.webdriver.remote.webelement.WebElement (session=\"93d1b88027c79b9fad8227e690868bc0\", element=\"1c1cb56a-0a31-4063-8e7c-0e2c4eae0e5f\")>,\n",
       " <selenium.webdriver.remote.webelement.WebElement (session=\"93d1b88027c79b9fad8227e690868bc0\", element=\"36ae09ed-9bf5-4639-b2ed-7b3ec5ed3eb0\")>,\n",
       " <selenium.webdriver.remote.webelement.WebElement (session=\"93d1b88027c79b9fad8227e690868bc0\", element=\"1ccc3dc0-0101-4d12-8821-d1824b93812e\")>,\n",
       " <selenium.webdriver.remote.webelement.WebElement (session=\"93d1b88027c79b9fad8227e690868bc0\", element=\"9635f5be-2f2f-4f8e-9374-1f003492e94c\")>,\n",
       " <selenium.webdriver.remote.webelement.WebElement (session=\"93d1b88027c79b9fad8227e690868bc0\", element=\"a5f0a247-02a4-4d10-b9d9-0ffc34c3fab1\")>,\n",
       " <selenium.webdriver.remote.webelement.WebElement (session=\"93d1b88027c79b9fad8227e690868bc0\", element=\"78b93524-9b2a-4c3b-870c-258b43e64e93\")>]"
      ]
     },
     "execution_count": 11,
     "metadata": {},
     "output_type": "execute_result"
    }
   ],
   "source": [
    "salary_tags=driver.find_elements_by_xpath(\"//div[@class='salaryEstimate css-nq3w9f pr-xxsm']\")\n",
    "salary_tags[0:9]"
   ]
  },
  {
   "cell_type": "code",
   "execution_count": 12,
   "metadata": {},
   "outputs": [
    {
     "data": {
      "text/plain": [
       "['₹500K-₹829K (Glassdoor est.)',\n",
       " '₹533K-₹758K (Glassdoor est.)',\n",
       " '₹312K-₹518K (Glassdoor est.)',\n",
       " '₹421K-₹480K (Glassdoor est.)',\n",
       " '₹312K-₹600K (Glassdoor est.)',\n",
       " '₹287K-₹611K (Glassdoor est.)',\n",
       " '₹287K-₹611K (Glassdoor est.)',\n",
       " '₹313K-₹607K (Glassdoor est.)',\n",
       " '₹420K-₹850K (Glassdoor est.)',\n",
       " '₹126K-₹600K (Glassdoor est.)']"
      ]
     },
     "execution_count": 12,
     "metadata": {},
     "output_type": "execute_result"
    }
   ],
   "source": [
    "for i in salary_tags:\n",
    "    salary=i.text\n",
    "    salary_list.append(salary)\n",
    "    \n",
    "    \n",
    "salary_list[0:10]"
   ]
  },
  {
   "cell_type": "code",
   "execution_count": 13,
   "metadata": {},
   "outputs": [
    {
     "name": "stdout",
     "output_type": "stream",
     "text": [
      "31 31 30\n"
     ]
    }
   ],
   "source": [
    "print(len(job_titles),len(company_names),len(salary_list))"
   ]
  },
  {
   "cell_type": "code",
   "execution_count": 14,
   "metadata": {},
   "outputs": [],
   "source": [
    "import pandas as pd\n",
    "jobs=pd.DataFrame({})\n",
    "jobs['title']=job_titles[0:10]\n",
    "jobs['company']=company_names[0:10]\n",
    "jobs['salary']=salary_list[0:10]"
   ]
  },
  {
   "cell_type": "code",
   "execution_count": 15,
   "metadata": {},
   "outputs": [
    {
     "data": {
      "text/html": [
       "<div>\n",
       "<style scoped>\n",
       "    .dataframe tbody tr th:only-of-type {\n",
       "        vertical-align: middle;\n",
       "    }\n",
       "\n",
       "    .dataframe tbody tr th {\n",
       "        vertical-align: top;\n",
       "    }\n",
       "\n",
       "    .dataframe thead th {\n",
       "        text-align: right;\n",
       "    }\n",
       "</style>\n",
       "<table border=\"1\" class=\"dataframe\">\n",
       "  <thead>\n",
       "    <tr style=\"text-align: right;\">\n",
       "      <th></th>\n",
       "      <th>title</th>\n",
       "      <th>company</th>\n",
       "      <th>salary</th>\n",
       "    </tr>\n",
       "  </thead>\n",
       "  <tbody>\n",
       "    <tr>\n",
       "      <th>0</th>\n",
       "      <td>Assistant Manager - Data Scientist</td>\n",
       "      <td>Genpact</td>\n",
       "      <td>₹500K-₹829K (Glassdoor est.)</td>\n",
       "    </tr>\n",
       "    <tr>\n",
       "      <th>1</th>\n",
       "      <td>Data Scientist</td>\n",
       "      <td>IHS Markit</td>\n",
       "      <td>₹533K-₹758K (Glassdoor est.)</td>\n",
       "    </tr>\n",
       "    <tr>\n",
       "      <th>2</th>\n",
       "      <td>Data Analyst</td>\n",
       "      <td>GroundTruth</td>\n",
       "      <td>₹312K-₹518K (Glassdoor est.)</td>\n",
       "    </tr>\n",
       "    <tr>\n",
       "      <th>3</th>\n",
       "      <td>Data Scientist</td>\n",
       "      <td>Algoscale</td>\n",
       "      <td>₹421K-₹480K (Glassdoor est.)</td>\n",
       "    </tr>\n",
       "    <tr>\n",
       "      <th>4</th>\n",
       "      <td>Data Scientist</td>\n",
       "      <td>Gauge Data Solutions</td>\n",
       "      <td>₹312K-₹600K (Glassdoor est.)</td>\n",
       "    </tr>\n",
       "    <tr>\n",
       "      <th>5</th>\n",
       "      <td>Data Scientist</td>\n",
       "      <td>MARKTECH CONSULTANCY</td>\n",
       "      <td>₹287K-₹611K (Glassdoor est.)</td>\n",
       "    </tr>\n",
       "    <tr>\n",
       "      <th>6</th>\n",
       "      <td>Data Scientist</td>\n",
       "      <td>SearchUrCollege</td>\n",
       "      <td>₹287K-₹611K (Glassdoor est.)</td>\n",
       "    </tr>\n",
       "    <tr>\n",
       "      <th>7</th>\n",
       "      <td>Data Scientist</td>\n",
       "      <td>Techlive</td>\n",
       "      <td>₹313K-₹607K (Glassdoor est.)</td>\n",
       "    </tr>\n",
       "    <tr>\n",
       "      <th>8</th>\n",
       "      <td>Data Scientist</td>\n",
       "      <td>Ank Aha</td>\n",
       "      <td>₹420K-₹850K (Glassdoor est.)</td>\n",
       "    </tr>\n",
       "    <tr>\n",
       "      <th>9</th>\n",
       "      <td>Data Scientist</td>\n",
       "      <td>Priority Vendor</td>\n",
       "      <td>₹126K-₹600K (Glassdoor est.)</td>\n",
       "    </tr>\n",
       "  </tbody>\n",
       "</table>\n",
       "</div>"
      ],
      "text/plain": [
       "                                title               company  \\\n",
       "0  Assistant Manager - Data Scientist               Genpact   \n",
       "1                      Data Scientist            IHS Markit   \n",
       "2                        Data Analyst           GroundTruth   \n",
       "3                      Data Scientist             Algoscale   \n",
       "4                      Data Scientist  Gauge Data Solutions   \n",
       "5                      Data Scientist  MARKTECH CONSULTANCY   \n",
       "6                      Data Scientist       SearchUrCollege   \n",
       "7                      Data Scientist              Techlive   \n",
       "8                      Data Scientist               Ank Aha   \n",
       "9                      Data Scientist       Priority Vendor   \n",
       "\n",
       "                         salary  \n",
       "0  ₹500K-₹829K (Glassdoor est.)  \n",
       "1  ₹533K-₹758K (Glassdoor est.)  \n",
       "2  ₹312K-₹518K (Glassdoor est.)  \n",
       "3  ₹421K-₹480K (Glassdoor est.)  \n",
       "4  ₹312K-₹600K (Glassdoor est.)  \n",
       "5  ₹287K-₹611K (Glassdoor est.)  \n",
       "6  ₹287K-₹611K (Glassdoor est.)  \n",
       "7  ₹313K-₹607K (Glassdoor est.)  \n",
       "8  ₹420K-₹850K (Glassdoor est.)  \n",
       "9  ₹126K-₹600K (Glassdoor est.)  "
      ]
     },
     "execution_count": 15,
     "metadata": {},
     "output_type": "execute_result"
    }
   ],
   "source": [
    "jobs"
   ]
  },
  {
   "cell_type": "code",
   "execution_count": null,
   "metadata": {},
   "outputs": [],
   "source": []
  }
 ],
 "metadata": {
  "kernelspec": {
   "display_name": "Python 3",
   "language": "python",
   "name": "python3"
  },
  "language_info": {
   "codemirror_mode": {
    "name": "ipython",
    "version": 3
   },
   "file_extension": ".py",
   "mimetype": "text/x-python",
   "name": "python",
   "nbconvert_exporter": "python",
   "pygments_lexer": "ipython3",
   "version": "3.7.6"
  }
 },
 "nbformat": 4,
 "nbformat_minor": 4
}
